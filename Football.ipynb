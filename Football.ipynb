{
 "cells": [
  {
   "cell_type": "code",
   "execution_count": null,
   "metadata": {},
   "outputs": [],
   "source": [
    "#Foot Ball Dataset\n",
    "#Source: https://www.kaggle.com/martj42/international-football-results-from-1872-to-2017https://www.kaggle.com/martj42/international-football-results-from-1872-to-2017"
   ]
  },
  {
   "cell_type": "code",
   "execution_count": 3,
   "metadata": {},
   "outputs": [],
   "source": [
    "import pandas as pd\n",
    "import numpy as np\n",
    "import matplotlib.pyplot as plt\n",
    "%matplotlib inline\n",
    "import seaborn as sns"
   ]
  },
  {
   "cell_type": "code",
   "execution_count": 4,
   "metadata": {},
   "outputs": [],
   "source": [
    "df= pd.read_csv(\"datasets_football.csv\")"
   ]
  },
  {
   "cell_type": "code",
   "execution_count": 5,
   "metadata": {},
   "outputs": [
    {
     "output_type": "execute_result",
     "data": {
      "text/plain": "         date home_team away_team  home_score  away_score tournament     city  \\\n0  1872-11-30  Scotland   England           0           0   Friendly  Glasgow   \n1  1873-03-08   England  Scotland           4           2   Friendly   London   \n2  1874-03-07  Scotland   England           2           1   Friendly  Glasgow   \n3  1875-03-06   England  Scotland           2           2   Friendly   London   \n4  1876-03-04  Scotland   England           3           0   Friendly  Glasgow   \n\n    country  neutral  \n0  Scotland    False  \n1   England    False  \n2  Scotland    False  \n3   England    False  \n4  Scotland    False  ",
      "text/html": "<div>\n<style scoped>\n    .dataframe tbody tr th:only-of-type {\n        vertical-align: middle;\n    }\n\n    .dataframe tbody tr th {\n        vertical-align: top;\n    }\n\n    .dataframe thead th {\n        text-align: right;\n    }\n</style>\n<table border=\"1\" class=\"dataframe\">\n  <thead>\n    <tr style=\"text-align: right;\">\n      <th></th>\n      <th>date</th>\n      <th>home_team</th>\n      <th>away_team</th>\n      <th>home_score</th>\n      <th>away_score</th>\n      <th>tournament</th>\n      <th>city</th>\n      <th>country</th>\n      <th>neutral</th>\n    </tr>\n  </thead>\n  <tbody>\n    <tr>\n      <th>0</th>\n      <td>1872-11-30</td>\n      <td>Scotland</td>\n      <td>England</td>\n      <td>0</td>\n      <td>0</td>\n      <td>Friendly</td>\n      <td>Glasgow</td>\n      <td>Scotland</td>\n      <td>False</td>\n    </tr>\n    <tr>\n      <th>1</th>\n      <td>1873-03-08</td>\n      <td>England</td>\n      <td>Scotland</td>\n      <td>4</td>\n      <td>2</td>\n      <td>Friendly</td>\n      <td>London</td>\n      <td>England</td>\n      <td>False</td>\n    </tr>\n    <tr>\n      <th>2</th>\n      <td>1874-03-07</td>\n      <td>Scotland</td>\n      <td>England</td>\n      <td>2</td>\n      <td>1</td>\n      <td>Friendly</td>\n      <td>Glasgow</td>\n      <td>Scotland</td>\n      <td>False</td>\n    </tr>\n    <tr>\n      <th>3</th>\n      <td>1875-03-06</td>\n      <td>England</td>\n      <td>Scotland</td>\n      <td>2</td>\n      <td>2</td>\n      <td>Friendly</td>\n      <td>London</td>\n      <td>England</td>\n      <td>False</td>\n    </tr>\n    <tr>\n      <th>4</th>\n      <td>1876-03-04</td>\n      <td>Scotland</td>\n      <td>England</td>\n      <td>3</td>\n      <td>0</td>\n      <td>Friendly</td>\n      <td>Glasgow</td>\n      <td>Scotland</td>\n      <td>False</td>\n    </tr>\n  </tbody>\n</table>\n</div>"
     },
     "metadata": {},
     "execution_count": 5
    }
   ],
   "source": [
    "df.head()"
   ]
  },
  {
   "cell_type": "code",
   "execution_count": 6,
   "metadata": {
    "tags": []
   },
   "outputs": [
    {
     "output_type": "stream",
     "name": "stdout",
     "text": "<class 'pandas.core.frame.DataFrame'>\nRangeIndex: 41586 entries, 0 to 41585\nData columns (total 9 columns):\n #   Column      Non-Null Count  Dtype \n---  ------      --------------  ----- \n 0   date        41586 non-null  object\n 1   home_team   41586 non-null  object\n 2   away_team   41586 non-null  object\n 3   home_score  41586 non-null  int64 \n 4   away_score  41586 non-null  int64 \n 5   tournament  41586 non-null  object\n 6   city        41586 non-null  object\n 7   country     41586 non-null  object\n 8   neutral     41586 non-null  bool  \ndtypes: bool(1), int64(2), object(6)\nmemory usage: 2.6+ MB\n"
    }
   ],
   "source": [
    "df.info()"
   ]
  },
  {
   "cell_type": "code",
   "execution_count": 7,
   "metadata": {},
   "outputs": [
    {
     "output_type": "execute_result",
     "data": {
      "text/plain": "date          0\nhome_team     0\naway_team     0\nhome_score    0\naway_score    0\ntournament    0\ncity          0\ncountry       0\nneutral       0\ndtype: int64"
     },
     "metadata": {},
     "execution_count": 7
    }
   ],
   "source": [
    "# check for missing values\n",
    "df.isnull().sum()"
   ]
  },
  {
   "cell_type": "code",
   "execution_count": null,
   "metadata": {},
   "outputs": [],
   "source": [
    "# 1. Count the tuples in the dataset:"
   ]
  },
  {
   "cell_type": "code",
   "execution_count": 8,
   "metadata": {},
   "outputs": [
    {
     "output_type": "execute_result",
     "data": {
      "text/plain": "(41586, 9)"
     },
     "metadata": {},
     "execution_count": 8
    }
   ],
   "source": [
    "df.shape"
   ]
  },
  {
   "cell_type": "code",
   "execution_count": null,
   "metadata": {},
   "outputs": [],
   "source": [
    "# there are 41586 tuples"
   ]
  },
  {
   "cell_type": "code",
   "execution_count": null,
   "metadata": {},
   "outputs": [],
   "source": [
    "#2. Count the names of unique tournament names "
   ]
  },
  {
   "cell_type": "code",
   "execution_count": 9,
   "metadata": {},
   "outputs": [
    {
     "output_type": "execute_result",
     "data": {
      "text/plain": "112"
     },
     "metadata": {},
     "execution_count": 9
    }
   ],
   "source": [
    "df['tournament'].nunique()"
   ]
  },
  {
   "cell_type": "code",
   "execution_count": null,
   "metadata": {},
   "outputs": [],
   "source": [
    "# there are 112 unique tournament names"
   ]
  },
  {
   "cell_type": "code",
   "execution_count": null,
   "metadata": {},
   "outputs": [],
   "source": [
    "#3. Count the number of matches in 2018"
   ]
  },
  {
   "cell_type": "code",
   "execution_count": 10,
   "metadata": {},
   "outputs": [],
   "source": [
    "import datetime"
   ]
  },
  {
   "cell_type": "code",
   "execution_count": 11,
   "metadata": {},
   "outputs": [],
   "source": [
    "df['year'] = pd.DatetimeIndex(df['date']).year"
   ]
  },
  {
   "cell_type": "code",
   "execution_count": 12,
   "metadata": {},
   "outputs": [
    {
     "output_type": "execute_result",
     "data": {
      "text/plain": "         date home_team away_team  home_score  away_score tournament     city  \\\n0  1872-11-30  Scotland   England           0           0   Friendly  Glasgow   \n1  1873-03-08   England  Scotland           4           2   Friendly   London   \n2  1874-03-07  Scotland   England           2           1   Friendly  Glasgow   \n3  1875-03-06   England  Scotland           2           2   Friendly   London   \n4  1876-03-04  Scotland   England           3           0   Friendly  Glasgow   \n\n    country  neutral  year  \n0  Scotland    False  1872  \n1   England    False  1873  \n2  Scotland    False  1874  \n3   England    False  1875  \n4  Scotland    False  1876  ",
      "text/html": "<div>\n<style scoped>\n    .dataframe tbody tr th:only-of-type {\n        vertical-align: middle;\n    }\n\n    .dataframe tbody tr th {\n        vertical-align: top;\n    }\n\n    .dataframe thead th {\n        text-align: right;\n    }\n</style>\n<table border=\"1\" class=\"dataframe\">\n  <thead>\n    <tr style=\"text-align: right;\">\n      <th></th>\n      <th>date</th>\n      <th>home_team</th>\n      <th>away_team</th>\n      <th>home_score</th>\n      <th>away_score</th>\n      <th>tournament</th>\n      <th>city</th>\n      <th>country</th>\n      <th>neutral</th>\n      <th>year</th>\n    </tr>\n  </thead>\n  <tbody>\n    <tr>\n      <th>0</th>\n      <td>1872-11-30</td>\n      <td>Scotland</td>\n      <td>England</td>\n      <td>0</td>\n      <td>0</td>\n      <td>Friendly</td>\n      <td>Glasgow</td>\n      <td>Scotland</td>\n      <td>False</td>\n      <td>1872</td>\n    </tr>\n    <tr>\n      <th>1</th>\n      <td>1873-03-08</td>\n      <td>England</td>\n      <td>Scotland</td>\n      <td>4</td>\n      <td>2</td>\n      <td>Friendly</td>\n      <td>London</td>\n      <td>England</td>\n      <td>False</td>\n      <td>1873</td>\n    </tr>\n    <tr>\n      <th>2</th>\n      <td>1874-03-07</td>\n      <td>Scotland</td>\n      <td>England</td>\n      <td>2</td>\n      <td>1</td>\n      <td>Friendly</td>\n      <td>Glasgow</td>\n      <td>Scotland</td>\n      <td>False</td>\n      <td>1874</td>\n    </tr>\n    <tr>\n      <th>3</th>\n      <td>1875-03-06</td>\n      <td>England</td>\n      <td>Scotland</td>\n      <td>2</td>\n      <td>2</td>\n      <td>Friendly</td>\n      <td>London</td>\n      <td>England</td>\n      <td>False</td>\n      <td>1875</td>\n    </tr>\n    <tr>\n      <th>4</th>\n      <td>1876-03-04</td>\n      <td>Scotland</td>\n      <td>England</td>\n      <td>3</td>\n      <td>0</td>\n      <td>Friendly</td>\n      <td>Glasgow</td>\n      <td>Scotland</td>\n      <td>False</td>\n      <td>1876</td>\n    </tr>\n  </tbody>\n</table>\n</div>"
     },
     "metadata": {},
     "execution_count": 12
    }
   ],
   "source": [
    "df.head()"
   ]
  },
  {
   "cell_type": "code",
   "execution_count": 13,
   "metadata": {},
   "outputs": [
    {
     "output_type": "execute_result",
     "data": {
      "text/plain": "905"
     },
     "metadata": {},
     "execution_count": 13
    }
   ],
   "source": [
    "(df['year']== 2018).sum()"
   ]
  },
  {
   "cell_type": "code",
   "execution_count": null,
   "metadata": {},
   "outputs": [],
   "source": [
    "#4. The count of wins, losses and draws for the home team"
   ]
  },
  {
   "cell_type": "code",
   "execution_count": 24,
   "metadata": {},
   "outputs": [
    {
     "output_type": "execute_result",
     "data": {
      "text/plain": "20234"
     },
     "metadata": {},
     "execution_count": 24
    }
   ],
   "source": [
    "wins = df.loc[df['home_score'] > df['away_score'] ].shape[0]\n",
    "wins"
   ]
  },
  {
   "cell_type": "code",
   "execution_count": 25,
   "metadata": {},
   "outputs": [
    {
     "output_type": "execute_result",
     "data": {
      "text/plain": "11774"
     },
     "metadata": {},
     "execution_count": 25
    }
   ],
   "source": [
    "losses = df.loc[df['home_score'] < df['away_score']].shape[0]\n",
    "losses"
   ]
  },
  {
   "cell_type": "code",
   "execution_count": 26,
   "metadata": {},
   "outputs": [
    {
     "output_type": "execute_result",
     "data": {
      "text/plain": "9578"
     },
     "metadata": {},
     "execution_count": 26
    }
   ],
   "source": [
    "ties = df.loc[df['home_score'] == df['away_score']].shape[0]\n",
    "ties"
   ]
  },
  {
   "cell_type": "code",
   "execution_count": null,
   "metadata": {},
   "outputs": [],
   "source": [
    "#5. Plot a pie chart of wins, losses and ties"
   ]
  },
  {
   "cell_type": "code",
   "execution_count": 28,
   "metadata": {},
   "outputs": [
    {
     "output_type": "execute_result",
     "data": {
      "text/plain": "<function matplotlib.pyplot.show(*args, **kw)>"
     },
     "metadata": {},
     "execution_count": 28
    },
    {
     "output_type": "display_data",
     "data": {
      "text/plain": "<Figure size 432x288 with 1 Axes>",
      "image/svg+xml": "<?xml version=\"1.0\" encoding=\"utf-8\" standalone=\"no\"?>\r\n<!DOCTYPE svg PUBLIC \"-//W3C//DTD SVG 1.1//EN\"\r\n  \"http://www.w3.org/Graphics/SVG/1.1/DTD/svg11.dtd\">\r\n<!-- Created with matplotlib (https://matplotlib.org/) -->\r\n<svg height=\"231.84pt\" version=\"1.1\" viewBox=\"0 0 231.84 231.84\" width=\"231.84pt\" xmlns=\"http://www.w3.org/2000/svg\" xmlns:xlink=\"http://www.w3.org/1999/xlink\">\r\n <defs>\r\n  <style type=\"text/css\">\r\n*{stroke-linecap:butt;stroke-linejoin:round;}\r\n  </style>\r\n </defs>\r\n <g id=\"figure_1\">\r\n  <g id=\"patch_1\">\r\n   <path d=\"M 0 231.84 \r\nL 231.84 231.84 \r\nL 231.84 0 \r\nL 0 0 \r\nz\r\n\" style=\"fill:none;\"/>\r\n  </g>\r\n  <g id=\"axes_1\">\r\n   <g id=\"patch_2\">\r\n    <path d=\"M 202.896 115.92 \r\nC 202.896 93.495948 194.223985 71.918311 178.706093 55.730873 \r\nC 163.188202 39.543434 141.995906 29.968212 119.591846 29.021541 \r\nC 97.187785 28.07487 75.263281 35.828216 58.435159 50.648892 \r\nC 41.607037 65.469567 31.145681 86.238734 29.254027 108.582856 \r\nL 115.92 115.92 \r\nL 202.896 115.92 \r\nz\r\n\" style=\"fill:#1f77b4;\"/>\r\n   </g>\r\n   <g id=\"patch_3\">\r\n    <path d=\"M 29.254027 108.582856 \r\nC 28.161881 121.483222 29.96375 134.466156 34.527765 146.581518 \r\nC 39.09178 158.69688 46.303821 169.641732 55.636084 178.615087 \r\nC 64.968346 187.588443 76.187481 194.365929 88.472431 198.451543 \r\nC 100.757381 202.537156 113.800966 203.82874 126.648609 202.231769 \r\nL 115.92 115.92 \r\nL 29.254027 108.582856 \r\nz\r\n\" style=\"fill:#ff7f0e;\"/>\r\n   </g>\r\n   <g id=\"patch_4\">\r\n    <path d=\"M 126.648609 202.231769 \r\nC 147.690284 199.616276 167.066112 189.394436 181.104185 173.503388 \r\nC 195.142259 157.61234 202.896 137.123606 202.896 115.92 \r\nL 115.92 115.92 \r\nL 126.648609 202.231769 \r\nz\r\n\" style=\"fill:#2ca02c;\"/>\r\n   </g>\r\n   <g id=\"matplotlib.axis_1\"/>\r\n   <g id=\"matplotlib.axis_2\"/>\r\n   <g id=\"text_1\">\r\n    <!-- wins -->\r\n    <defs>\r\n     <path d=\"M 4.203125 54.6875 \r\nL 13.1875 54.6875 \r\nL 24.421875 12.015625 \r\nL 35.59375 54.6875 \r\nL 46.1875 54.6875 \r\nL 57.421875 12.015625 \r\nL 68.609375 54.6875 \r\nL 77.59375 54.6875 \r\nL 63.28125 0 \r\nL 52.6875 0 \r\nL 40.921875 44.828125 \r\nL 29.109375 0 \r\nL 18.5 0 \r\nz\r\n\" id=\"DejaVuSans-119\"/>\r\n     <path d=\"M 9.421875 54.6875 \r\nL 18.40625 54.6875 \r\nL 18.40625 0 \r\nL 9.421875 0 \r\nz\r\nM 9.421875 75.984375 \r\nL 18.40625 75.984375 \r\nL 18.40625 64.59375 \r\nL 9.421875 64.59375 \r\nz\r\n\" id=\"DejaVuSans-105\"/>\r\n     <path d=\"M 54.890625 33.015625 \r\nL 54.890625 0 \r\nL 45.90625 0 \r\nL 45.90625 32.71875 \r\nQ 45.90625 40.484375 42.875 44.328125 \r\nQ 39.84375 48.1875 33.796875 48.1875 \r\nQ 26.515625 48.1875 22.3125 43.546875 \r\nQ 18.109375 38.921875 18.109375 30.90625 \r\nL 18.109375 0 \r\nL 9.078125 0 \r\nL 9.078125 54.6875 \r\nL 18.109375 54.6875 \r\nL 18.109375 46.1875 \r\nQ 21.34375 51.125 25.703125 53.5625 \r\nQ 30.078125 56 35.796875 56 \r\nQ 45.21875 56 50.046875 50.171875 \r\nQ 54.890625 44.34375 54.890625 33.015625 \r\nz\r\n\" id=\"DejaVuSans-110\"/>\r\n     <path d=\"M 44.28125 53.078125 \r\nL 44.28125 44.578125 \r\nQ 40.484375 46.53125 36.375 47.5 \r\nQ 32.28125 48.484375 27.875 48.484375 \r\nQ 21.1875 48.484375 17.84375 46.4375 \r\nQ 14.5 44.390625 14.5 40.28125 \r\nQ 14.5 37.15625 16.890625 35.375 \r\nQ 19.28125 33.59375 26.515625 31.984375 \r\nL 29.59375 31.296875 \r\nQ 39.15625 29.25 43.1875 25.515625 \r\nQ 47.21875 21.78125 47.21875 15.09375 \r\nQ 47.21875 7.46875 41.1875 3.015625 \r\nQ 35.15625 -1.421875 24.609375 -1.421875 \r\nQ 20.21875 -1.421875 15.453125 -0.5625 \r\nQ 10.6875 0.296875 5.421875 2 \r\nL 5.421875 11.28125 \r\nQ 10.40625 8.6875 15.234375 7.390625 \r\nQ 20.0625 6.109375 24.8125 6.109375 \r\nQ 31.15625 6.109375 34.5625 8.28125 \r\nQ 37.984375 10.453125 37.984375 14.40625 \r\nQ 37.984375 18.0625 35.515625 20.015625 \r\nQ 33.0625 21.96875 24.703125 23.78125 \r\nL 21.578125 24.515625 \r\nQ 13.234375 26.265625 9.515625 29.90625 \r\nQ 5.8125 33.546875 5.8125 39.890625 \r\nQ 5.8125 47.609375 11.28125 51.796875 \r\nQ 16.75 56 26.8125 56 \r\nQ 31.78125 56 36.171875 55.265625 \r\nQ 40.578125 54.546875 44.28125 53.078125 \r\nz\r\n\" id=\"DejaVuSans-115\"/>\r\n    </defs>\r\n    <g transform=\"translate(119.95903 23.09107)scale(0.1 -0.1)\">\r\n     <use xlink:href=\"#DejaVuSans-119\"/>\r\n     <use x=\"81.787109\" xlink:href=\"#DejaVuSans-105\"/>\r\n     <use x=\"109.570312\" xlink:href=\"#DejaVuSans-110\"/>\r\n     <use x=\"172.949219\" xlink:href=\"#DejaVuSans-115\"/>\r\n    </g>\r\n   </g>\r\n   <g id=\"text_2\">\r\n    <!-- 48.66% -->\r\n    <defs>\r\n     <path d=\"M 37.796875 64.3125 \r\nL 12.890625 25.390625 \r\nL 37.796875 25.390625 \r\nz\r\nM 35.203125 72.90625 \r\nL 47.609375 72.90625 \r\nL 47.609375 25.390625 \r\nL 58.015625 25.390625 \r\nL 58.015625 17.1875 \r\nL 47.609375 17.1875 \r\nL 47.609375 0 \r\nL 37.796875 0 \r\nL 37.796875 17.1875 \r\nL 4.890625 17.1875 \r\nL 4.890625 26.703125 \r\nz\r\n\" id=\"DejaVuSans-52\"/>\r\n     <path d=\"M 31.78125 34.625 \r\nQ 24.75 34.625 20.71875 30.859375 \r\nQ 16.703125 27.09375 16.703125 20.515625 \r\nQ 16.703125 13.921875 20.71875 10.15625 \r\nQ 24.75 6.390625 31.78125 6.390625 \r\nQ 38.8125 6.390625 42.859375 10.171875 \r\nQ 46.921875 13.96875 46.921875 20.515625 \r\nQ 46.921875 27.09375 42.890625 30.859375 \r\nQ 38.875 34.625 31.78125 34.625 \r\nz\r\nM 21.921875 38.8125 \r\nQ 15.578125 40.375 12.03125 44.71875 \r\nQ 8.5 49.078125 8.5 55.328125 \r\nQ 8.5 64.0625 14.71875 69.140625 \r\nQ 20.953125 74.21875 31.78125 74.21875 \r\nQ 42.671875 74.21875 48.875 69.140625 \r\nQ 55.078125 64.0625 55.078125 55.328125 \r\nQ 55.078125 49.078125 51.53125 44.71875 \r\nQ 48 40.375 41.703125 38.8125 \r\nQ 48.828125 37.15625 52.796875 32.3125 \r\nQ 56.78125 27.484375 56.78125 20.515625 \r\nQ 56.78125 9.90625 50.3125 4.234375 \r\nQ 43.84375 -1.421875 31.78125 -1.421875 \r\nQ 19.734375 -1.421875 13.25 4.234375 \r\nQ 6.78125 9.90625 6.78125 20.515625 \r\nQ 6.78125 27.484375 10.78125 32.3125 \r\nQ 14.796875 37.15625 21.921875 38.8125 \r\nz\r\nM 18.3125 54.390625 \r\nQ 18.3125 48.734375 21.84375 45.5625 \r\nQ 25.390625 42.390625 31.78125 42.390625 \r\nQ 38.140625 42.390625 41.71875 45.5625 \r\nQ 45.3125 48.734375 45.3125 54.390625 \r\nQ 45.3125 60.0625 41.71875 63.234375 \r\nQ 38.140625 66.40625 31.78125 66.40625 \r\nQ 25.390625 66.40625 21.84375 63.234375 \r\nQ 18.3125 60.0625 18.3125 54.390625 \r\nz\r\n\" id=\"DejaVuSans-56\"/>\r\n     <path d=\"M 10.6875 12.40625 \r\nL 21 12.40625 \r\nL 21 0 \r\nL 10.6875 0 \r\nz\r\n\" id=\"DejaVuSans-46\"/>\r\n     <path d=\"M 33.015625 40.375 \r\nQ 26.375 40.375 22.484375 35.828125 \r\nQ 18.609375 31.296875 18.609375 23.390625 \r\nQ 18.609375 15.53125 22.484375 10.953125 \r\nQ 26.375 6.390625 33.015625 6.390625 \r\nQ 39.65625 6.390625 43.53125 10.953125 \r\nQ 47.40625 15.53125 47.40625 23.390625 \r\nQ 47.40625 31.296875 43.53125 35.828125 \r\nQ 39.65625 40.375 33.015625 40.375 \r\nz\r\nM 52.59375 71.296875 \r\nL 52.59375 62.3125 \r\nQ 48.875 64.0625 45.09375 64.984375 \r\nQ 41.3125 65.921875 37.59375 65.921875 \r\nQ 27.828125 65.921875 22.671875 59.328125 \r\nQ 17.53125 52.734375 16.796875 39.40625 \r\nQ 19.671875 43.65625 24.015625 45.921875 \r\nQ 28.375 48.1875 33.59375 48.1875 \r\nQ 44.578125 48.1875 50.953125 41.515625 \r\nQ 57.328125 34.859375 57.328125 23.390625 \r\nQ 57.328125 12.15625 50.6875 5.359375 \r\nQ 44.046875 -1.421875 33.015625 -1.421875 \r\nQ 20.359375 -1.421875 13.671875 8.265625 \r\nQ 6.984375 17.96875 6.984375 36.375 \r\nQ 6.984375 53.65625 15.1875 63.9375 \r\nQ 23.390625 74.21875 37.203125 74.21875 \r\nQ 40.921875 74.21875 44.703125 73.484375 \r\nQ 48.484375 72.75 52.59375 71.296875 \r\nz\r\n\" id=\"DejaVuSans-54\"/>\r\n     <path d=\"M 72.703125 32.078125 \r\nQ 68.453125 32.078125 66.03125 28.46875 \r\nQ 63.625 24.859375 63.625 18.40625 \r\nQ 63.625 12.0625 66.03125 8.421875 \r\nQ 68.453125 4.78125 72.703125 4.78125 \r\nQ 76.859375 4.78125 79.265625 8.421875 \r\nQ 81.6875 12.0625 81.6875 18.40625 \r\nQ 81.6875 24.8125 79.265625 28.4375 \r\nQ 76.859375 32.078125 72.703125 32.078125 \r\nz\r\nM 72.703125 38.28125 \r\nQ 80.421875 38.28125 84.953125 32.90625 \r\nQ 89.5 27.546875 89.5 18.40625 \r\nQ 89.5 9.28125 84.9375 3.921875 \r\nQ 80.375 -1.421875 72.703125 -1.421875 \r\nQ 64.890625 -1.421875 60.34375 3.921875 \r\nQ 55.8125 9.28125 55.8125 18.40625 \r\nQ 55.8125 27.59375 60.375 32.9375 \r\nQ 64.9375 38.28125 72.703125 38.28125 \r\nz\r\nM 22.3125 68.015625 \r\nQ 18.109375 68.015625 15.6875 64.375 \r\nQ 13.28125 60.75 13.28125 54.390625 \r\nQ 13.28125 47.953125 15.671875 44.328125 \r\nQ 18.0625 40.71875 22.3125 40.71875 \r\nQ 26.5625 40.71875 28.96875 44.328125 \r\nQ 31.390625 47.953125 31.390625 54.390625 \r\nQ 31.390625 60.6875 28.953125 64.34375 \r\nQ 26.515625 68.015625 22.3125 68.015625 \r\nz\r\nM 66.40625 74.21875 \r\nL 74.21875 74.21875 \r\nL 28.609375 -1.421875 \r\nL 20.796875 -1.421875 \r\nz\r\nM 22.3125 74.21875 \r\nQ 30.03125 74.21875 34.609375 68.875 \r\nQ 39.203125 63.53125 39.203125 54.390625 \r\nQ 39.203125 45.171875 34.640625 39.84375 \r\nQ 30.078125 34.515625 22.3125 34.515625 \r\nQ 14.546875 34.515625 10.03125 39.859375 \r\nQ 5.515625 45.21875 5.515625 54.390625 \r\nQ 5.515625 63.484375 10.046875 68.84375 \r\nQ 14.59375 74.21875 22.3125 74.21875 \r\nz\r\n\" id=\"DejaVuSans-37\"/>\r\n    </defs>\r\n    <g transform=\"translate(99.058264 66.5403)scale(0.1 -0.1)\">\r\n     <use xlink:href=\"#DejaVuSans-52\"/>\r\n     <use x=\"63.623047\" xlink:href=\"#DejaVuSans-56\"/>\r\n     <use x=\"127.246094\" xlink:href=\"#DejaVuSans-46\"/>\r\n     <use x=\"159.033203\" xlink:href=\"#DejaVuSans-54\"/>\r\n     <use x=\"222.65625\" xlink:href=\"#DejaVuSans-54\"/>\r\n     <use x=\"286.279297\" xlink:href=\"#DejaVuSans-37\"/>\r\n    </g>\r\n   </g>\r\n   <g id=\"text_3\">\r\n    <!-- losses -->\r\n    <defs>\r\n     <path d=\"M 9.421875 75.984375 \r\nL 18.40625 75.984375 \r\nL 18.40625 0 \r\nL 9.421875 0 \r\nz\r\n\" id=\"DejaVuSans-108\"/>\r\n     <path d=\"M 30.609375 48.390625 \r\nQ 23.390625 48.390625 19.1875 42.75 \r\nQ 14.984375 37.109375 14.984375 27.296875 \r\nQ 14.984375 17.484375 19.15625 11.84375 \r\nQ 23.34375 6.203125 30.609375 6.203125 \r\nQ 37.796875 6.203125 41.984375 11.859375 \r\nQ 46.1875 17.53125 46.1875 27.296875 \r\nQ 46.1875 37.015625 41.984375 42.703125 \r\nQ 37.796875 48.390625 30.609375 48.390625 \r\nz\r\nM 30.609375 56 \r\nQ 42.328125 56 49.015625 48.375 \r\nQ 55.71875 40.765625 55.71875 27.296875 \r\nQ 55.71875 13.875 49.015625 6.21875 \r\nQ 42.328125 -1.421875 30.609375 -1.421875 \r\nQ 18.84375 -1.421875 12.171875 6.21875 \r\nQ 5.515625 13.875 5.515625 27.296875 \r\nQ 5.515625 40.765625 12.171875 48.375 \r\nQ 18.84375 56 30.609375 56 \r\nz\r\n\" id=\"DejaVuSans-111\"/>\r\n     <path d=\"M 56.203125 29.59375 \r\nL 56.203125 25.203125 \r\nL 14.890625 25.203125 \r\nQ 15.484375 15.921875 20.484375 11.0625 \r\nQ 25.484375 6.203125 34.421875 6.203125 \r\nQ 39.59375 6.203125 44.453125 7.46875 \r\nQ 49.3125 8.734375 54.109375 11.28125 \r\nL 54.109375 2.78125 \r\nQ 49.265625 0.734375 44.1875 -0.34375 \r\nQ 39.109375 -1.421875 33.890625 -1.421875 \r\nQ 20.796875 -1.421875 13.15625 6.1875 \r\nQ 5.515625 13.8125 5.515625 26.8125 \r\nQ 5.515625 40.234375 12.765625 48.109375 \r\nQ 20.015625 56 32.328125 56 \r\nQ 43.359375 56 49.78125 48.890625 \r\nQ 56.203125 41.796875 56.203125 29.59375 \r\nz\r\nM 47.21875 32.234375 \r\nQ 47.125 39.59375 43.09375 43.984375 \r\nQ 39.0625 48.390625 32.421875 48.390625 \r\nQ 24.90625 48.390625 20.390625 44.140625 \r\nQ 15.875 39.890625 15.1875 32.171875 \r\nz\r\n\" id=\"DejaVuSans-101\"/>\r\n    </defs>\r\n    <g transform=\"translate(18.929567 187.643971)scale(0.1 -0.1)\">\r\n     <use xlink:href=\"#DejaVuSans-108\"/>\r\n     <use x=\"27.783203\" xlink:href=\"#DejaVuSans-111\"/>\r\n     <use x=\"88.964844\" xlink:href=\"#DejaVuSans-115\"/>\r\n     <use x=\"141.064453\" xlink:href=\"#DejaVuSans-115\"/>\r\n     <use x=\"193.164062\" xlink:href=\"#DejaVuSans-101\"/>\r\n     <use x=\"254.6875\" xlink:href=\"#DejaVuSans-115\"/>\r\n    </g>\r\n   </g>\r\n   <g id=\"text_4\">\r\n    <!-- 28.31% -->\r\n    <defs>\r\n     <path d=\"M 19.1875 8.296875 \r\nL 53.609375 8.296875 \r\nL 53.609375 0 \r\nL 7.328125 0 \r\nL 7.328125 8.296875 \r\nQ 12.9375 14.109375 22.625 23.890625 \r\nQ 32.328125 33.6875 34.8125 36.53125 \r\nQ 39.546875 41.84375 41.421875 45.53125 \r\nQ 43.3125 49.21875 43.3125 52.78125 \r\nQ 43.3125 58.59375 39.234375 62.25 \r\nQ 35.15625 65.921875 28.609375 65.921875 \r\nQ 23.96875 65.921875 18.8125 64.3125 \r\nQ 13.671875 62.703125 7.8125 59.421875 \r\nL 7.8125 69.390625 \r\nQ 13.765625 71.78125 18.9375 73 \r\nQ 24.125 74.21875 28.421875 74.21875 \r\nQ 39.75 74.21875 46.484375 68.546875 \r\nQ 53.21875 62.890625 53.21875 53.421875 \r\nQ 53.21875 48.921875 51.53125 44.890625 \r\nQ 49.859375 40.875 45.40625 35.40625 \r\nQ 44.1875 33.984375 37.640625 27.21875 \r\nQ 31.109375 20.453125 19.1875 8.296875 \r\nz\r\n\" id=\"DejaVuSans-50\"/>\r\n     <path d=\"M 40.578125 39.3125 \r\nQ 47.65625 37.796875 51.625 33 \r\nQ 55.609375 28.21875 55.609375 21.1875 \r\nQ 55.609375 10.40625 48.1875 4.484375 \r\nQ 40.765625 -1.421875 27.09375 -1.421875 \r\nQ 22.515625 -1.421875 17.65625 -0.515625 \r\nQ 12.796875 0.390625 7.625 2.203125 \r\nL 7.625 11.71875 \r\nQ 11.71875 9.328125 16.59375 8.109375 \r\nQ 21.484375 6.890625 26.8125 6.890625 \r\nQ 36.078125 6.890625 40.9375 10.546875 \r\nQ 45.796875 14.203125 45.796875 21.1875 \r\nQ 45.796875 27.640625 41.28125 31.265625 \r\nQ 36.765625 34.90625 28.71875 34.90625 \r\nL 20.21875 34.90625 \r\nL 20.21875 43.015625 \r\nL 29.109375 43.015625 \r\nQ 36.375 43.015625 40.234375 45.921875 \r\nQ 44.09375 48.828125 44.09375 54.296875 \r\nQ 44.09375 59.90625 40.109375 62.90625 \r\nQ 36.140625 65.921875 28.71875 65.921875 \r\nQ 24.65625 65.921875 20.015625 65.03125 \r\nQ 15.375 64.15625 9.8125 62.3125 \r\nL 9.8125 71.09375 \r\nQ 15.4375 72.65625 20.34375 73.4375 \r\nQ 25.25 74.21875 29.59375 74.21875 \r\nQ 40.828125 74.21875 47.359375 69.109375 \r\nQ 53.90625 64.015625 53.90625 55.328125 \r\nQ 53.90625 49.265625 50.4375 45.09375 \r\nQ 46.96875 40.921875 40.578125 39.3125 \r\nz\r\n\" id=\"DejaVuSans-51\"/>\r\n     <path d=\"M 12.40625 8.296875 \r\nL 28.515625 8.296875 \r\nL 28.515625 63.921875 \r\nL 10.984375 60.40625 \r\nL 10.984375 69.390625 \r\nL 28.421875 72.90625 \r\nL 38.28125 72.90625 \r\nL 38.28125 8.296875 \r\nL 54.390625 8.296875 \r\nL 54.390625 0 \r\nL 12.40625 0 \r\nz\r\n\" id=\"DejaVuSans-49\"/>\r\n    </defs>\r\n    <g transform=\"translate(60.684806 156.296427)scale(0.1 -0.1)\">\r\n     <use xlink:href=\"#DejaVuSans-50\"/>\r\n     <use x=\"63.623047\" xlink:href=\"#DejaVuSans-56\"/>\r\n     <use x=\"127.246094\" xlink:href=\"#DejaVuSans-46\"/>\r\n     <use x=\"159.033203\" xlink:href=\"#DejaVuSans-51\"/>\r\n     <use x=\"222.65625\" xlink:href=\"#DejaVuSans-49\"/>\r\n     <use x=\"286.279297\" xlink:href=\"#DejaVuSans-37\"/>\r\n    </g>\r\n   </g>\r\n   <g id=\"text_5\">\r\n    <!-- ties -->\r\n    <defs>\r\n     <path d=\"M 18.3125 70.21875 \r\nL 18.3125 54.6875 \r\nL 36.8125 54.6875 \r\nL 36.8125 47.703125 \r\nL 18.3125 47.703125 \r\nL 18.3125 18.015625 \r\nQ 18.3125 11.328125 20.140625 9.421875 \r\nQ 21.96875 7.515625 27.59375 7.515625 \r\nL 36.8125 7.515625 \r\nL 36.8125 0 \r\nL 27.59375 0 \r\nQ 17.1875 0 13.234375 3.875 \r\nQ 9.28125 7.765625 9.28125 18.015625 \r\nL 9.28125 47.703125 \r\nL 2.6875 47.703125 \r\nL 2.6875 54.6875 \r\nL 9.28125 54.6875 \r\nL 9.28125 70.21875 \r\nz\r\n\" id=\"DejaVuSans-116\"/>\r\n    </defs>\r\n    <g transform=\"translate(187.622604 182.021102)scale(0.1 -0.1)\">\r\n     <use xlink:href=\"#DejaVuSans-116\"/>\r\n     <use x=\"39.208984\" xlink:href=\"#DejaVuSans-105\"/>\r\n     <use x=\"66.992188\" xlink:href=\"#DejaVuSans-101\"/>\r\n     <use x=\"128.515625\" xlink:href=\"#DejaVuSans-115\"/>\r\n    </g>\r\n   </g>\r\n   <g id=\"text_6\">\r\n    <!-- 23.03% -->\r\n    <defs>\r\n     <path d=\"M 31.78125 66.40625 \r\nQ 24.171875 66.40625 20.328125 58.90625 \r\nQ 16.5 51.421875 16.5 36.375 \r\nQ 16.5 21.390625 20.328125 13.890625 \r\nQ 24.171875 6.390625 31.78125 6.390625 \r\nQ 39.453125 6.390625 43.28125 13.890625 \r\nQ 47.125 21.390625 47.125 36.375 \r\nQ 47.125 51.421875 43.28125 58.90625 \r\nQ 39.453125 66.40625 31.78125 66.40625 \r\nz\r\nM 31.78125 74.21875 \r\nQ 44.046875 74.21875 50.515625 64.515625 \r\nQ 56.984375 54.828125 56.984375 36.375 \r\nQ 56.984375 17.96875 50.515625 8.265625 \r\nQ 44.046875 -1.421875 31.78125 -1.421875 \r\nQ 19.53125 -1.421875 13.0625 8.265625 \r\nQ 6.59375 17.96875 6.59375 36.375 \r\nQ 6.59375 54.828125 13.0625 64.515625 \r\nQ 19.53125 74.21875 31.78125 74.21875 \r\nz\r\n\" id=\"DejaVuSans-48\"/>\r\n    </defs>\r\n    <g transform=\"translate(135.965667 153.229408)scale(0.1 -0.1)\">\r\n     <use xlink:href=\"#DejaVuSans-50\"/>\r\n     <use x=\"63.623047\" xlink:href=\"#DejaVuSans-51\"/>\r\n     <use x=\"127.246094\" xlink:href=\"#DejaVuSans-46\"/>\r\n     <use x=\"159.033203\" xlink:href=\"#DejaVuSans-48\"/>\r\n     <use x=\"222.65625\" xlink:href=\"#DejaVuSans-51\"/>\r\n     <use x=\"286.279297\" xlink:href=\"#DejaVuSans-37\"/>\r\n    </g>\r\n   </g>\r\n  </g>\r\n </g>\r\n</svg>\r\n",
      "image/png": "[encoded data removed]"
     },
     "metadata": {}
    }
   ],
   "source": [
    "games = [ wins, losses, ties]\n",
    "labels =['wins', 'losses', 'ties']\n",
    "plt.pie(games, labels = labels,  autopct='%1.2f%%')\n",
    "plt.show"
   ]
  },
  {
   "cell_type": "code",
   "execution_count": null,
   "metadata": {},
   "outputs": [],
   "source": [
    "#6. Pie chart of the netral column  in the dataset"
   ]
  },
  {
   "cell_type": "code",
   "execution_count": 32,
   "metadata": {},
   "outputs": [
    {
     "output_type": "execute_result",
     "data": {
      "text/plain": "10282"
     },
     "metadata": {},
     "execution_count": 32
    }
   ],
   "source": [
    "No_of_True = (df['neutral'] == True).sum()\n",
    "No_of_True"
   ]
  },
  {
   "cell_type": "code",
   "execution_count": 33,
   "metadata": {},
   "outputs": [
    {
     "output_type": "execute_result",
     "data": {
      "text/plain": "31304"
     },
     "metadata": {},
     "execution_count": 33
    }
   ],
   "source": [
    "No_of_False = (df['neutral'] == False).sum()\n",
    "No_of_False"
   ]
  },
  {
   "cell_type": "code",
   "execution_count": 35,
   "metadata": {},
   "outputs": [
    {
     "output_type": "execute_result",
     "data": {
      "text/plain": "array([False,  True])"
     },
     "metadata": {},
     "execution_count": 35
    }
   ],
   "source": [
    "neutral_labels = df['neutral'].unique()\n",
    "neutral_labels"
   ]
  },
  {
   "cell_type": "code",
   "execution_count": 38,
   "metadata": {},
   "outputs": [],
   "source": [
    "neutral = [No_of_False,No_of_True]"
   ]
  },
  {
   "cell_type": "code",
   "execution_count": 39,
   "metadata": {},
   "outputs": [
    {
     "output_type": "execute_result",
     "data": {
      "text/plain": "([<matplotlib.patches.Wedge at 0x1cb9be5b948>,\n  <matplotlib.patches.Wedge at 0x1cb99e20108>],\n [Text(-0.7845162444894376, 0.7710604789069333, 'False'),\n  Text(0.7845162083934902, -0.7710605156327887, 'True')],\n [Text(-0.4279179515396932, 0.4205784430401454, '75.28%'),\n  Text(0.42791793185099464, -0.42057846307243013, '24.72%')])"
     },
     "metadata": {},
     "execution_count": 39
    },
    {
     "output_type": "display_data",
     "data": {
      "text/plain": "<Figure size 432x288 with 1 Axes>",
      "image/svg+xml": "<?xml version=\"1.0\" encoding=\"utf-8\" standalone=\"no\"?>\r\n<!DOCTYPE svg PUBLIC \"-//W3C//DTD SVG 1.1//EN\"\r\n  \"http://www.w3.org/Graphics/SVG/1.1/DTD/svg11.dtd\">\r\n<!-- Created with matplotlib (https://matplotlib.org/) -->\r\n<svg height=\"231.84pt\" version=\"1.1\" viewBox=\"0 0 231.84 231.84\" width=\"231.84pt\" xmlns=\"http://www.w3.org/2000/svg\" xmlns:xlink=\"http://www.w3.org/1999/xlink\">\r\n <defs>\r\n  <style type=\"text/css\">\r\n*{stroke-linecap:butt;stroke-linejoin:round;}\r\n  </style>\r\n </defs>\r\n <g id=\"figure_1\">\r\n  <g id=\"patch_1\">\r\n   <path d=\"M 0 231.84 \r\nL 231.84 231.84 \r\nL 231.84 0 \r\nL 0 0 \r\nz\r\n\" style=\"fill:none;\"/>\r\n  </g>\r\n  <g id=\"axes_1\">\r\n   <g id=\"patch_2\">\r\n    <path d=\"M 202.896 115.92 \r\nC 202.896 107.334233 201.624694 98.795591 199.123495 90.582223 \r\nC 196.622297 82.368856 192.918663 74.570926 188.13324 67.442453 \r\nC 183.347817 60.31398 177.533138 53.933217 170.878617 48.508021 \r\nC 164.224097 43.082824 156.802786 38.672749 148.856435 35.421455 \r\nC 140.910085 32.17016 132.525927 30.113338 123.977077 29.31799 \r\nC 115.428228 28.522642 106.808534 28.997499 98.398783 30.727092 \r\nC 89.989032 32.456685 81.881544 35.422028 74.340422 39.526523 \r\nC 66.7993 43.631019 59.907328 48.829609 53.889014 54.952949 \r\nC 47.870699 61.076289 42.792109 68.057159 38.81868 75.668155 \r\nC 34.845251 83.279151 32.020601 91.436723 30.436745 99.875135 \r\nC 28.852889 108.313547 28.527213 116.940166 29.470326 125.473977 \r\nC 30.41344 134.007789 32.614989 142.355112 36.003259 150.24403 \r\nC 39.391528 158.132948 43.929323 165.47686 49.468823 172.036536 \r\nC 55.008322 178.596211 61.488716 184.299641 68.698905 188.961035 \r\nC 75.909093 193.622428 83.769924 197.190613 92.02533 199.549357 \r\nC 100.280737 201.9081 108.840093 203.031508 117.424575 202.882985 \r\nL 115.92 115.92 \r\nL 202.896 115.92 \r\nz\r\n\" style=\"fill:#1f77b4;\"/>\r\n   </g>\r\n   <g id=\"patch_3\">\r\n    <path d=\"M 117.424575 202.882985 \r\nC 140.219684 202.4886 161.970039 193.14688 177.950983 176.887054 \r\nC 193.931928 160.627228 202.895998 138.718528 202.896 115.920008 \r\nL 115.92 115.92 \r\nL 117.424575 202.882985 \r\nz\r\n\" style=\"fill:#ff7f0e;\"/>\r\n   </g>\r\n   <g id=\"matplotlib.axis_1\"/>\r\n   <g id=\"matplotlib.axis_2\"/>\r\n   <g id=\"text_1\">\r\n    <!-- False -->\r\n    <defs>\r\n     <path d=\"M 9.8125 72.90625 \r\nL 51.703125 72.90625 \r\nL 51.703125 64.59375 \r\nL 19.671875 64.59375 \r\nL 19.671875 43.109375 \r\nL 48.578125 43.109375 \r\nL 48.578125 34.8125 \r\nL 19.671875 34.8125 \r\nL 19.671875 0 \r\nL 9.8125 0 \r\nz\r\n\" id=\"DejaVuSans-70\"/>\r\n     <path d=\"M 34.28125 27.484375 \r\nQ 23.390625 27.484375 19.1875 25 \r\nQ 14.984375 22.515625 14.984375 16.5 \r\nQ 14.984375 11.71875 18.140625 8.90625 \r\nQ 21.296875 6.109375 26.703125 6.109375 \r\nQ 34.1875 6.109375 38.703125 11.40625 \r\nQ 43.21875 16.703125 43.21875 25.484375 \r\nL 43.21875 27.484375 \r\nz\r\nM 52.203125 31.203125 \r\nL 52.203125 0 \r\nL 43.21875 0 \r\nL 43.21875 8.296875 \r\nQ 40.140625 3.328125 35.546875 0.953125 \r\nQ 30.953125 -1.421875 24.3125 -1.421875 \r\nQ 15.921875 -1.421875 10.953125 3.296875 \r\nQ 6 8.015625 6 15.921875 \r\nQ 6 25.140625 12.171875 29.828125 \r\nQ 18.359375 34.515625 30.609375 34.515625 \r\nL 43.21875 34.515625 \r\nL 43.21875 35.40625 \r\nQ 43.21875 41.609375 39.140625 45 \r\nQ 35.0625 48.390625 27.6875 48.390625 \r\nQ 23 48.390625 18.546875 47.265625 \r\nQ 14.109375 46.140625 10.015625 43.890625 \r\nL 10.015625 52.203125 \r\nQ 14.9375 54.109375 19.578125 55.046875 \r\nQ 24.21875 56 28.609375 56 \r\nQ 40.484375 56 46.34375 49.84375 \r\nQ 52.203125 43.703125 52.203125 31.203125 \r\nz\r\n\" id=\"DejaVuSans-97\"/>\r\n     <path d=\"M 9.421875 75.984375 \r\nL 18.40625 75.984375 \r\nL 18.40625 0 \r\nL 9.421875 0 \r\nz\r\n\" id=\"DejaVuSans-108\"/>\r\n     <path d=\"M 44.28125 53.078125 \r\nL 44.28125 44.578125 \r\nQ 40.484375 46.53125 36.375 47.5 \r\nQ 32.28125 48.484375 27.875 48.484375 \r\nQ 21.1875 48.484375 17.84375 46.4375 \r\nQ 14.5 44.390625 14.5 40.28125 \r\nQ 14.5 37.15625 16.890625 35.375 \r\nQ 19.28125 33.59375 26.515625 31.984375 \r\nL 29.59375 31.296875 \r\nQ 39.15625 29.25 43.1875 25.515625 \r\nQ 47.21875 21.78125 47.21875 15.09375 \r\nQ 47.21875 7.46875 41.1875 3.015625 \r\nQ 35.15625 -1.421875 24.609375 -1.421875 \r\nQ 20.21875 -1.421875 15.453125 -0.5625 \r\nQ 10.6875 0.296875 5.421875 2 \r\nL 5.421875 11.28125 \r\nQ 10.40625 8.6875 15.234375 7.390625 \r\nQ 20.0625 6.109375 24.8125 6.109375 \r\nQ 31.15625 6.109375 34.5625 8.28125 \r\nQ 37.984375 10.453125 37.984375 14.40625 \r\nQ 37.984375 18.0625 35.515625 20.015625 \r\nQ 33.0625 21.96875 24.703125 23.78125 \r\nL 21.578125 24.515625 \r\nQ 13.234375 26.265625 9.515625 29.90625 \r\nQ 5.8125 33.546875 5.8125 39.890625 \r\nQ 5.8125 47.609375 11.28125 51.796875 \r\nQ 16.75 56 26.8125 56 \r\nQ 31.78125 56 36.171875 55.265625 \r\nQ 40.578125 54.546875 44.28125 53.078125 \r\nz\r\n\" id=\"DejaVuSans-115\"/>\r\n     <path d=\"M 56.203125 29.59375 \r\nL 56.203125 25.203125 \r\nL 14.890625 25.203125 \r\nQ 15.484375 15.921875 20.484375 11.0625 \r\nQ 25.484375 6.203125 34.421875 6.203125 \r\nQ 39.59375 6.203125 44.453125 7.46875 \r\nQ 49.3125 8.734375 54.109375 11.28125 \r\nL 54.109375 2.78125 \r\nQ 49.265625 0.734375 44.1875 -0.34375 \r\nQ 39.109375 -1.421875 33.890625 -1.421875 \r\nQ 20.796875 -1.421875 13.15625 6.1875 \r\nQ 5.515625 13.8125 5.515625 26.8125 \r\nQ 5.515625 40.234375 12.765625 48.109375 \r\nQ 20.015625 56 32.328125 56 \r\nQ 43.359375 56 49.78125 48.890625 \r\nQ 56.203125 41.796875 56.203125 29.59375 \r\nz\r\nM 47.21875 32.234375 \r\nQ 47.125 39.59375 43.09375 43.984375 \r\nQ 39.0625 48.390625 32.421875 48.390625 \r\nQ 24.90625 48.390625 20.390625 44.140625 \r\nQ 15.875 39.890625 15.1875 32.171875 \r\nz\r\n\" id=\"DejaVuSans-101\"/>\r\n    </defs>\r\n    <g transform=\"translate(21.679665 51.615619)scale(0.1 -0.1)\">\r\n     <use xlink:href=\"#DejaVuSans-70\"/>\r\n     <use x=\"57.378906\" xlink:href=\"#DejaVuSans-97\"/>\r\n     <use x=\"118.658203\" xlink:href=\"#DejaVuSans-108\"/>\r\n     <use x=\"146.441406\" xlink:href=\"#DejaVuSans-115\"/>\r\n     <use x=\"198.541016\" xlink:href=\"#DejaVuSans-101\"/>\r\n    </g>\r\n   </g>\r\n   <g id=\"text_2\">\r\n    <!-- 75.28% -->\r\n    <defs>\r\n     <path d=\"M 8.203125 72.90625 \r\nL 55.078125 72.90625 \r\nL 55.078125 68.703125 \r\nL 28.609375 0 \r\nL 18.3125 0 \r\nL 43.21875 64.59375 \r\nL 8.203125 64.59375 \r\nz\r\n\" id=\"DejaVuSans-55\"/>\r\n     <path d=\"M 10.796875 72.90625 \r\nL 49.515625 72.90625 \r\nL 49.515625 64.59375 \r\nL 19.828125 64.59375 \r\nL 19.828125 46.734375 \r\nQ 21.96875 47.46875 24.109375 47.828125 \r\nQ 26.265625 48.1875 28.421875 48.1875 \r\nQ 40.625 48.1875 47.75 41.5 \r\nQ 54.890625 34.8125 54.890625 23.390625 \r\nQ 54.890625 11.625 47.5625 5.09375 \r\nQ 40.234375 -1.421875 26.90625 -1.421875 \r\nQ 22.3125 -1.421875 17.546875 -0.640625 \r\nQ 12.796875 0.140625 7.71875 1.703125 \r\nL 7.71875 11.625 \r\nQ 12.109375 9.234375 16.796875 8.0625 \r\nQ 21.484375 6.890625 26.703125 6.890625 \r\nQ 35.15625 6.890625 40.078125 11.328125 \r\nQ 45.015625 15.765625 45.015625 23.390625 \r\nQ 45.015625 31 40.078125 35.4375 \r\nQ 35.15625 39.890625 26.703125 39.890625 \r\nQ 22.75 39.890625 18.8125 39.015625 \r\nQ 14.890625 38.140625 10.796875 36.28125 \r\nz\r\n\" id=\"DejaVuSans-53\"/>\r\n     <path d=\"M 10.6875 12.40625 \r\nL 21 12.40625 \r\nL 21 0 \r\nL 10.6875 0 \r\nz\r\n\" id=\"DejaVuSans-46\"/>\r\n     <path d=\"M 19.1875 8.296875 \r\nL 53.609375 8.296875 \r\nL 53.609375 0 \r\nL 7.328125 0 \r\nL 7.328125 8.296875 \r\nQ 12.9375 14.109375 22.625 23.890625 \r\nQ 32.328125 33.6875 34.8125 36.53125 \r\nQ 39.546875 41.84375 41.421875 45.53125 \r\nQ 43.3125 49.21875 43.3125 52.78125 \r\nQ 43.3125 58.59375 39.234375 62.25 \r\nQ 35.15625 65.921875 28.609375 65.921875 \r\nQ 23.96875 65.921875 18.8125 64.3125 \r\nQ 13.671875 62.703125 7.8125 59.421875 \r\nL 7.8125 69.390625 \r\nQ 13.765625 71.78125 18.9375 73 \r\nQ 24.125 74.21875 28.421875 74.21875 \r\nQ 39.75 74.21875 46.484375 68.546875 \r\nQ 53.21875 62.890625 53.21875 53.421875 \r\nQ 53.21875 48.921875 51.53125 44.890625 \r\nQ 49.859375 40.875 45.40625 35.40625 \r\nQ 44.1875 33.984375 37.640625 27.21875 \r\nQ 31.109375 20.453125 19.1875 8.296875 \r\nz\r\n\" id=\"DejaVuSans-50\"/>\r\n     <path d=\"M 31.78125 34.625 \r\nQ 24.75 34.625 20.71875 30.859375 \r\nQ 16.703125 27.09375 16.703125 20.515625 \r\nQ 16.703125 13.921875 20.71875 10.15625 \r\nQ 24.75 6.390625 31.78125 6.390625 \r\nQ 38.8125 6.390625 42.859375 10.171875 \r\nQ 46.921875 13.96875 46.921875 20.515625 \r\nQ 46.921875 27.09375 42.890625 30.859375 \r\nQ 38.875 34.625 31.78125 34.625 \r\nz\r\nM 21.921875 38.8125 \r\nQ 15.578125 40.375 12.03125 44.71875 \r\nQ 8.5 49.078125 8.5 55.328125 \r\nQ 8.5 64.0625 14.71875 69.140625 \r\nQ 20.953125 74.21875 31.78125 74.21875 \r\nQ 42.671875 74.21875 48.875 69.140625 \r\nQ 55.078125 64.0625 55.078125 55.328125 \r\nQ 55.078125 49.078125 51.53125 44.71875 \r\nQ 48 40.375 41.703125 38.8125 \r\nQ 48.828125 37.15625 52.796875 32.3125 \r\nQ 56.78125 27.484375 56.78125 20.515625 \r\nQ 56.78125 9.90625 50.3125 4.234375 \r\nQ 43.84375 -1.421875 31.78125 -1.421875 \r\nQ 19.734375 -1.421875 13.25 4.234375 \r\nQ 6.78125 9.90625 6.78125 20.515625 \r\nQ 6.78125 27.484375 10.78125 32.3125 \r\nQ 14.796875 37.15625 21.921875 38.8125 \r\nz\r\nM 18.3125 54.390625 \r\nQ 18.3125 48.734375 21.84375 45.5625 \r\nQ 25.390625 42.390625 31.78125 42.390625 \r\nQ 38.140625 42.390625 41.71875 45.5625 \r\nQ 45.3125 48.734375 45.3125 54.390625 \r\nQ 45.3125 60.0625 41.71875 63.234375 \r\nQ 38.140625 66.40625 31.78125 66.40625 \r\nQ 25.390625 66.40625 21.84375 63.234375 \r\nQ 18.3125 60.0625 18.3125 54.390625 \r\nz\r\n\" id=\"DejaVuSans-56\"/>\r\n     <path d=\"M 72.703125 32.078125 \r\nQ 68.453125 32.078125 66.03125 28.46875 \r\nQ 63.625 24.859375 63.625 18.40625 \r\nQ 63.625 12.0625 66.03125 8.421875 \r\nQ 68.453125 4.78125 72.703125 4.78125 \r\nQ 76.859375 4.78125 79.265625 8.421875 \r\nQ 81.6875 12.0625 81.6875 18.40625 \r\nQ 81.6875 24.8125 79.265625 28.4375 \r\nQ 76.859375 32.078125 72.703125 32.078125 \r\nz\r\nM 72.703125 38.28125 \r\nQ 80.421875 38.28125 84.953125 32.90625 \r\nQ 89.5 27.546875 89.5 18.40625 \r\nQ 89.5 9.28125 84.9375 3.921875 \r\nQ 80.375 -1.421875 72.703125 -1.421875 \r\nQ 64.890625 -1.421875 60.34375 3.921875 \r\nQ 55.8125 9.28125 55.8125 18.40625 \r\nQ 55.8125 27.59375 60.375 32.9375 \r\nQ 64.9375 38.28125 72.703125 38.28125 \r\nz\r\nM 22.3125 68.015625 \r\nQ 18.109375 68.015625 15.6875 64.375 \r\nQ 13.28125 60.75 13.28125 54.390625 \r\nQ 13.28125 47.953125 15.671875 44.328125 \r\nQ 18.0625 40.71875 22.3125 40.71875 \r\nQ 26.5625 40.71875 28.96875 44.328125 \r\nQ 31.390625 47.953125 31.390625 54.390625 \r\nQ 31.390625 60.6875 28.953125 64.34375 \r\nQ 26.515625 68.015625 22.3125 68.015625 \r\nz\r\nM 66.40625 74.21875 \r\nL 74.21875 74.21875 \r\nL 28.609375 -1.421875 \r\nL 20.796875 -1.421875 \r\nz\r\nM 22.3125 74.21875 \r\nQ 30.03125 74.21875 34.609375 68.875 \r\nQ 39.203125 63.53125 39.203125 54.390625 \r\nQ 39.203125 45.171875 34.640625 39.84375 \r\nQ 30.078125 34.515625 22.3125 34.515625 \r\nQ 14.546875 34.515625 10.03125 39.859375 \r\nQ 5.515625 45.21875 5.515625 54.390625 \r\nQ 5.515625 63.484375 10.046875 68.84375 \r\nQ 14.59375 74.21875 22.3125 74.21875 \r\nz\r\n\" id=\"DejaVuSans-37\"/>\r\n    </defs>\r\n    <g transform=\"translate(59.636564 82.099144)scale(0.1 -0.1)\">\r\n     <use xlink:href=\"#DejaVuSans-55\"/>\r\n     <use x=\"63.623047\" xlink:href=\"#DejaVuSans-53\"/>\r\n     <use x=\"127.246094\" xlink:href=\"#DejaVuSans-46\"/>\r\n     <use x=\"159.033203\" xlink:href=\"#DejaVuSans-50\"/>\r\n     <use x=\"222.65625\" xlink:href=\"#DejaVuSans-56\"/>\r\n     <use x=\"286.279297\" xlink:href=\"#DejaVuSans-37\"/>\r\n    </g>\r\n   </g>\r\n   <g id=\"text_3\">\r\n    <!-- True -->\r\n    <defs>\r\n     <path d=\"M -0.296875 72.90625 \r\nL 61.375 72.90625 \r\nL 61.375 64.59375 \r\nL 35.5 64.59375 \r\nL 35.5 0 \r\nL 25.59375 0 \r\nL 25.59375 64.59375 \r\nL -0.296875 64.59375 \r\nz\r\n\" id=\"DejaVuSans-84\"/>\r\n     <path d=\"M 41.109375 46.296875 \r\nQ 39.59375 47.171875 37.8125 47.578125 \r\nQ 36.03125 48 33.890625 48 \r\nQ 26.265625 48 22.1875 43.046875 \r\nQ 18.109375 38.09375 18.109375 28.8125 \r\nL 18.109375 0 \r\nL 9.078125 0 \r\nL 9.078125 54.6875 \r\nL 18.109375 54.6875 \r\nL 18.109375 46.1875 \r\nQ 20.953125 51.171875 25.484375 53.578125 \r\nQ 30.03125 56 36.53125 56 \r\nQ 37.453125 56 38.578125 55.875 \r\nQ 39.703125 55.765625 41.0625 55.515625 \r\nz\r\n\" id=\"DejaVuSans-114\"/>\r\n     <path d=\"M 8.5 21.578125 \r\nL 8.5 54.6875 \r\nL 17.484375 54.6875 \r\nL 17.484375 21.921875 \r\nQ 17.484375 14.15625 20.5 10.265625 \r\nQ 23.53125 6.390625 29.59375 6.390625 \r\nQ 36.859375 6.390625 41.078125 11.03125 \r\nQ 45.3125 15.671875 45.3125 23.6875 \r\nL 45.3125 54.6875 \r\nL 54.296875 54.6875 \r\nL 54.296875 0 \r\nL 45.3125 0 \r\nL 45.3125 8.40625 \r\nQ 42.046875 3.421875 37.71875 1 \r\nQ 33.40625 -1.421875 27.6875 -1.421875 \r\nQ 18.265625 -1.421875 13.375 4.4375 \r\nQ 8.5 10.296875 8.5 21.578125 \r\nz\r\nM 31.109375 56 \r\nz\r\n\" id=\"DejaVuSans-117\"/>\r\n    </defs>\r\n    <g transform=\"translate(184.154082 185.743134)scale(0.1 -0.1)\">\r\n     <use xlink:href=\"#DejaVuSans-84\"/>\r\n     <use x=\"60.865234\" xlink:href=\"#DejaVuSans-114\"/>\r\n     <use x=\"101.978516\" xlink:href=\"#DejaVuSans-117\"/>\r\n     <use x=\"165.357422\" xlink:href=\"#DejaVuSans-101\"/>\r\n    </g>\r\n   </g>\r\n   <g id=\"text_4\">\r\n    <!-- 24.72% -->\r\n    <defs>\r\n     <path d=\"M 37.796875 64.3125 \r\nL 12.890625 25.390625 \r\nL 37.796875 25.390625 \r\nz\r\nM 35.203125 72.90625 \r\nL 47.609375 72.90625 \r\nL 47.609375 25.390625 \r\nL 58.015625 25.390625 \r\nL 58.015625 17.1875 \r\nL 47.609375 17.1875 \r\nL 47.609375 0 \r\nL 37.796875 0 \r\nL 37.796875 17.1875 \r\nL 4.890625 17.1875 \r\nL 4.890625 26.703125 \r\nz\r\n\" id=\"DejaVuSans-52\"/>\r\n    </defs>\r\n    <g transform=\"translate(134.073746 155.259607)scale(0.1 -0.1)\">\r\n     <use xlink:href=\"#DejaVuSans-50\"/>\r\n     <use x=\"63.623047\" xlink:href=\"#DejaVuSans-52\"/>\r\n     <use x=\"127.246094\" xlink:href=\"#DejaVuSans-46\"/>\r\n     <use x=\"159.033203\" xlink:href=\"#DejaVuSans-55\"/>\r\n     <use x=\"222.65625\" xlink:href=\"#DejaVuSans-50\"/>\r\n     <use x=\"286.279297\" xlink:href=\"#DejaVuSans-37\"/>\r\n    </g>\r\n   </g>\r\n  </g>\r\n </g>\r\n</svg>\r\n",
      "image/png": "[encoded data removed]"
     },
     "metadata": {}
    }
   ],
   "source": [
    "plt.pie(neutral, labels = neutral_labels,autopct='%1.2f%%')"
   ]
  },
  {
   "cell_type": "code",
   "execution_count": null,
   "metadata": {},
   "outputs": [],
   "source": [
    "#7. Count of unique team names"
   ]
  },
  {
   "cell_type": "code",
   "execution_count": 41,
   "metadata": {},
   "outputs": [
    {
     "output_type": "execute_result",
     "data": {
      "text/plain": "312"
     },
     "metadata": {},
     "execution_count": 41
    }
   ],
   "source": [
    "values = df[[\"home_team\", \"away_team\"]].values\n",
    "len(np.unique(values))"
   ]
  },
  {
   "cell_type": "code",
   "execution_count": null,
   "metadata": {},
   "outputs": [],
   "source": [
    "# count of unique cities"
   ]
  },
  {
   "cell_type": "code",
   "execution_count": 42,
   "metadata": {},
   "outputs": [
    {
     "output_type": "execute_result",
     "data": {
      "text/plain": "2013"
     },
     "metadata": {},
     "execution_count": 42
    }
   ],
   "source": [
    "df['city'].nunique()"
   ]
  },
  {
   "cell_type": "code",
   "execution_count": 44,
   "metadata": {},
   "outputs": [
    {
     "output_type": "execute_result",
     "data": {
      "text/plain": "0        1872-11-30\n1        1873-03-08\n2        1874-03-07\n3        1875-03-06\n4        1876-03-04\n            ...    \n41581    2020-01-10\n41582    2020-01-12\n41583    2020-01-15\n41584    2020-01-19\n41585    2020-02-01\nName: date, Length: 41586, dtype: object"
     },
     "metadata": {},
     "execution_count": 44
    }
   ],
   "source": [
    "df['date'].sort_values(axis=0)"
   ]
  },
  {
   "cell_type": "code",
   "execution_count": null,
   "metadata": {},
   "outputs": [],
   "source": []
  }
 ],
 "metadata": {
  "language_info": {
   "codemirror_mode": {
    "name": "ipython",
    "version": 3
   },
   "file_extension": ".py",
   "mimetype": "text/x-python",
   "name": "python",
   "nbconvert_exporter": "python",
   "pygments_lexer": "ipython3",
   "version": 3
  },
  "orig_nbformat": 2,
  "kernelspec": {
   "name": "python_defaultSpec_1595196982430",
   "display_name": "Python 3.7.6 64-bit (conda)"
  }
 },
 "nbformat": 4,
 "nbformat_minor": 2
}