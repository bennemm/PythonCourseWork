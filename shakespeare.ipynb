{
 "metadata": {
  "language_info": {
   "codemirror_mode": {
    "name": "ipython",
    "version": 3
   },
   "file_extension": ".py",
   "mimetype": "text/x-python",
   "name": "python",
   "nbconvert_exporter": "python",
   "pygments_lexer": "ipython3",
   "version": 3
  },
  "orig_nbformat": 2,
  "kernelspec": {
   "name": "python_defaultSpec_1596828722230",
   "display_name": "Python 3.7.6 64-bit (conda)"
  }
 },
 "nbformat": 4,
 "nbformat_minor": 2,
 "cells": [
  {
   "cell_type": "code",
   "execution_count": 2,
   "metadata": {},
   "outputs": [],
   "source": [
    "#Using RNN to predict lines of Shakespeare"
   ]
  },
  {
   "cell_type": "code",
   "execution_count": 6,
   "metadata": {},
   "outputs": [],
   "source": [
    "#Read File\n",
    "with open('shakespeare.txt', 'r') as file:\n",
    "    text = file.read()\n",
    "lines = text.lower().split('\\n')\n"
   ]
  },
  {
   "cell_type": "code",
   "execution_count": 8,
   "metadata": {},
   "outputs": [],
   "source": [
    "#Define words, vocabulary size and sequences of words as lines\n",
    "from keras.preprocessing.text import text_to_word_sequence, Tokenizer\n",
    "words = text_to_word_sequence(text)\n",
    "tokenizer = Tokenizer()\n",
    "tokenizer.fit_on_texts(words)\n",
    "vocabulary_size = len(tokenizer.word_index) + 1\n",
    "sequences = tokenizer.texts_to_sequences(lines)"
   ]
  },
  {
   "cell_type": "code",
   "execution_count": 9,
   "metadata": {},
   "outputs": [],
   "source": [
    "# Find subsequences\n",
    "subsequences = []\n",
    "for sequence in sequences:\n",
    "    for i in range(1, len(sequence)):\n",
    "       subsequence = sequence[:i+1]\n",
    "       subsequences.append(subsequence)"
   ]
  },
  {
   "cell_type": "code",
   "execution_count": 10,
   "metadata": {},
   "outputs": [],
   "source": [
    "#Pad the Sequence\n",
    "from keras.preprocessing.sequence import pad_sequences\n",
    "sequence_length = max([len(sequence) for sequence in sequences])\n",
    "sequences = pad_sequences(subsequences, maxlen=sequence_length, padding='pre')  "
   ]
  },
  {
   "cell_type": "code",
   "execution_count": 11,
   "metadata": {},
   "outputs": [],
   "source": [
    "#Encode the target labels\n",
    "from keras.utils import to_categorical\n",
    "x, y = sequences[:,:-1],sequences[:,-1]\n",
    "y = to_categorical(y, num_classes=vocabulary_size)"
   ]
  },
  {
   "cell_type": "code",
   "execution_count": 12,
   "metadata": {},
   "outputs": [],
   "source": [
    "#Define the RNN\n",
    "from keras.models import Sequential\n",
    "model = Sequential()\n",
    "\t\n",
    "from keras.layers import Embedding\n",
    "model.add(Embedding(vocabulary_size, 100, input_length=sequence_length - 1))\n",
    "\t\n",
    "from keras.layers import LSTM\n",
    "model.add(LSTM(100))\n",
    "\t\n",
    "from keras.layers import Dropout\n",
    "model.add(Dropout(0.1))\n",
    "\t\n",
    "from keras.layers import Dense\n",
    "model.add(Dense(units=vocabulary_size, activation='softmax'))\n",
    "\t\n"
   ]
  },
  {
   "cell_type": "code",
   "execution_count": 18,
   "metadata": {
    "tags": [
     "outputPrepend"
    ]
   },
   "outputs": [
    {
     "output_type": "stream",
     "name": "stdout",
     "text": "============================] - 0s 397us/step - loss: 0.0413 - accuracy: 0.9677\nEpoch 307/500\n93/93 [==============================] - 0s 836us/step - loss: 0.0370 - accuracy: 0.9785\nEpoch 308/500\n93/93 [==============================] - 0s 440us/step - loss: 0.0322 - accuracy: 0.9892\nEpoch 309/500\n93/93 [==============================] - 0s 493us/step - loss: 0.0323 - accuracy: 0.9892\nEpoch 310/500\n93/93 [==============================] - 0s 761us/step - loss: 0.0349 - accuracy: 0.9785\nEpoch 311/500\n93/93 [==============================] - 0s 826us/step - loss: 0.0404 - accuracy: 0.9570\nEpoch 312/500\n93/93 [==============================] - 0s 794us/step - loss: 0.0332 - accuracy: 0.9785\nEpoch 313/500\n93/93 [==============================] - 0s 429us/step - loss: 0.0331 - accuracy: 0.9892\nEpoch 314/500\n93/93 [==============================] - 0s 847us/step - loss: 0.0463 - accuracy: 0.9677\nEpoch 315/500\n93/93 [==============================] - 0s 440us/step - loss: 0.0298 - accuracy: 0.9892\nEpoch 316/500\n93/93 [==============================] - 0s 397us/step - loss: 0.0392 - accuracy: 0.9677\nEpoch 317/500\n93/93 [==============================] - 0s 1ms/step - loss: 0.0386 - accuracy: 0.9785\nEpoch 318/500\n93/93 [==============================] - 0s 1ms/step - loss: 0.0348 - accuracy: 0.9892\nEpoch 319/500\n93/93 [==============================] - 0s 912us/step - loss: 0.0340 - accuracy: 0.9785\nEpoch 320/500\n93/93 [==============================] - 0s 2ms/step - loss: 0.0418 - accuracy: 0.9677\nEpoch 321/500\n93/93 [==============================] - 0s 579us/step - loss: 0.0369 - accuracy: 0.9785\nEpoch 322/500\n93/93 [==============================] - 0s 1ms/step - loss: 0.0349 - accuracy: 0.9785\nEpoch 323/500\n93/93 [==============================] - 0s 386us/step - loss: 0.0407 - accuracy: 0.9677\nEpoch 324/500\n93/93 [==============================] - 0s 858us/step - loss: 0.0395 - accuracy: 0.9570\nEpoch 325/500\n93/93 [==============================] - 0s 354us/step - loss: 0.0370 - accuracy: 0.9785\nEpoch 326/500\n93/93 [==============================] - 0s 1ms/step - loss: 0.0320 - accuracy: 1.0000\nEpoch 327/500\n93/93 [==============================] - 0s 794us/step - loss: 0.0380 - accuracy: 0.9677\nEpoch 328/500\n93/93 [==============================] - 0s 408us/step - loss: 0.0356 - accuracy: 0.9785\nEpoch 329/500\n93/93 [==============================] - 0s 622us/step - loss: 0.0392 - accuracy: 0.9892\nEpoch 330/500\n93/93 [==============================] - 0s 568us/step - loss: 0.0339 - accuracy: 0.9785\nEpoch 331/500\n93/93 [==============================] - 0s 483us/step - loss: 0.0305 - accuracy: 0.9785\nEpoch 332/500\n93/93 [==============================] - 0s 826us/step - loss: 0.0354 - accuracy: 0.9677\nEpoch 333/500\n93/93 [==============================] - 0s 579us/step - loss: 0.0415 - accuracy: 0.9677\nEpoch 334/500\n93/93 [==============================] - 0s 1ms/step - loss: 0.0357 - accuracy: 0.9677\nEpoch 335/500\n93/93 [==============================] - 0s 826us/step - loss: 0.0329 - accuracy: 0.9892\nEpoch 336/500\n93/93 [==============================] - 0s 343us/step - loss: 0.0339 - accuracy: 0.9892\nEpoch 337/500\n93/93 [==============================] - 0s 772us/step - loss: 0.0353 - accuracy: 0.9892\nEpoch 338/500\n93/93 [==============================] - 0s 365us/step - loss: 0.0384 - accuracy: 0.9570\nEpoch 339/500\n93/93 [==============================] - 0s 568us/step - loss: 0.0350 - accuracy: 0.9677\nEpoch 340/500\n93/93 [==============================] - 0s 418us/step - loss: 0.0352 - accuracy: 0.9785\nEpoch 341/500\n93/93 [==============================] - 0s 558us/step - loss: 0.0379 - accuracy: 0.9785\nEpoch 342/500\n93/93 [==============================] - 0s 879us/step - loss: 0.0351 - accuracy: 0.9785\nEpoch 343/500\n93/93 [==============================] - 0s 558us/step - loss: 0.0416 - accuracy: 0.9785\nEpoch 344/500\n93/93 [==============================] - 0s 2ms/step - loss: 0.0389 - accuracy: 0.9677\nEpoch 345/500\n93/93 [==============================] - 0s 622us/step - loss: 0.0347 - accuracy: 0.9677\nEpoch 346/500\n93/93 [==============================] - 0s 2ms/step - loss: 0.0347 - accuracy: 0.9785\nEpoch 347/500\n93/93 [==============================] - 0s 579us/step - loss: 0.0351 - accuracy: 0.9785\nEpoch 348/500\n93/93 [==============================] - 0s 418us/step - loss: 0.0420 - accuracy: 0.9677\nEpoch 349/500\n93/93 [==============================] - 0s 965us/step - loss: 0.0406 - accuracy: 0.9677\nEpoch 350/500\n93/93 [==============================] - 0s 879us/step - loss: 0.0294 - accuracy: 0.9892\nEpoch 351/500\n93/93 [==============================] - 0s 343us/step - loss: 0.0308 - accuracy: 0.9785\nEpoch 352/500\n93/93 [==============================] - 0s 365us/step - loss: 0.0333 - accuracy: 0.9892\nEpoch 353/500\n93/93 [==============================] - 0s 332us/step - loss: 0.0338 - accuracy: 0.9892\nEpoch 354/500\n93/93 [==============================] - 0s 601us/step - loss: 0.0300 - accuracy: 0.9785\nEpoch 355/500\n93/93 [==============================] - 0s 386us/step - loss: 0.0340 - accuracy: 0.9785\nEpoch 356/500\n93/93 [==============================] - 0s 568us/step - loss: 0.0319 - accuracy: 0.9785\nEpoch 357/500\n93/93 [==============================] - 0s 483us/step - loss: 0.0336 - accuracy: 0.9785\nEpoch 358/500\n93/93 [==============================] - 0s 965us/step - loss: 0.0414 - accuracy: 0.9677\nEpoch 359/500\n93/93 [==============================] - 0s 386us/step - loss: 0.0334 - accuracy: 0.9892\nEpoch 360/500\n93/93 [==============================] - 0s 654us/step - loss: 0.0445 - accuracy: 0.9570\nEpoch 361/500\n93/93 [==============================] - 0s 386us/step - loss: 0.0331 - accuracy: 0.9785\nEpoch 362/500\n93/93 [==============================] - 0s 622us/step - loss: 0.0318 - accuracy: 0.9785\nEpoch 363/500\n93/93 [==============================] - 0s 365us/step - loss: 0.0420 - accuracy: 0.9570\nEpoch 364/500\n93/93 [==============================] - 0s 493us/step - loss: 0.0310 - accuracy: 0.9892\nEpoch 365/500\n93/93 [==============================] - 0s 343us/step - loss: 0.0374 - accuracy: 0.9785\nEpoch 366/500\n93/93 [==============================] - 0s 676us/step - loss: 0.0357 - accuracy: 0.9785\nEpoch 367/500\n93/93 [==============================] - 0s 590us/step - loss: 0.0316 - accuracy: 0.9892\nEpoch 368/500\n93/93 [==============================] - 0s 397us/step - loss: 0.0298 - accuracy: 1.0000\nEpoch 369/500\n93/93 [==============================] - 0s 408us/step - loss: 0.0350 - accuracy: 0.9785\nEpoch 370/500\n93/93 [==============================] - 0s 1ms/step - loss: 0.0338 - accuracy: 0.9785\nEpoch 371/500\n93/93 [==============================] - 0s 579us/step - loss: 0.0365 - accuracy: 0.9785\nEpoch 372/500\n93/93 [==============================] - 0s 708us/step - loss: 0.0342 - accuracy: 0.9785\nEpoch 373/500\n93/93 [==============================] - 0s 2ms/step - loss: 0.0359 - accuracy: 0.9892\nEpoch 374/500\n93/93 [==============================] - 0s 1ms/step - loss: 0.0390 - accuracy: 0.9785\nEpoch 375/500\n93/93 [==============================] - 0s 1ms/step - loss: 0.0380 - accuracy: 0.9785\nEpoch 376/500\n93/93 [==============================] - 0s 965us/step - loss: 0.0357 - accuracy: 0.9677\nEpoch 377/500\n93/93 [==============================] - 0s 354us/step - loss: 0.0356 - accuracy: 0.9785\nEpoch 378/500\n93/93 [==============================] - 0s 729us/step - loss: 0.0289 - accuracy: 0.9892\nEpoch 379/500\n93/93 [==============================] - 0s 365us/step - loss: 0.0394 - accuracy: 0.9677\nEpoch 380/500\n93/93 [==============================] - 0s 1ms/step - loss: 0.0333 - accuracy: 0.9892\nEpoch 381/500\n93/93 [==============================] - 0s 386us/step - loss: 0.0353 - accuracy: 0.9677\nEpoch 382/500\n93/93 [==============================] - 0s 729us/step - loss: 0.0301 - accuracy: 1.0000\nEpoch 383/500\n93/93 [==============================] - 0s 386us/step - loss: 0.0379 - accuracy: 0.9677\nEpoch 384/500\n93/93 [==============================] - 0s 761us/step - loss: 0.0453 - accuracy: 0.9570\nEpoch 385/500\n93/93 [==============================] - 0s 365us/step - loss: 0.0346 - accuracy: 0.9785\nEpoch 386/500\n93/93 [==============================] - 0s 676us/step - loss: 0.0372 - accuracy: 0.9677\nEpoch 387/500\n93/93 [==============================] - 0s 386us/step - loss: 0.0337 - accuracy: 0.9785\nEpoch 388/500\n93/93 [==============================] - 0s 761us/step - loss: 0.0359 - accuracy: 0.9785\nEpoch 389/500\n93/93 [==============================] - 0s 375us/step - loss: 0.0265 - accuracy: 1.0000\nEpoch 390/500\n93/93 [==============================] - 0s 686us/step - loss: 0.0336 - accuracy: 0.9785\nEpoch 391/500\n93/93 [==============================] - 0s 440us/step - loss: 0.0375 - accuracy: 0.9677\nEpoch 392/500\n93/93 [==============================] - 0s 1ms/step - loss: 0.0316 - accuracy: 0.9892\nEpoch 393/500\n93/93 [==============================] - 0s 676us/step - loss: 0.0293 - accuracy: 0.9785\nEpoch 394/500\n93/93 [==============================] - 0s 2ms/step - loss: 0.0345 - accuracy: 0.9677\nEpoch 395/500\n93/93 [==============================] - 0s 590us/step - loss: 0.0309 - accuracy: 0.9785\nEpoch 396/500\n93/93 [==============================] - 0s 1ms/step - loss: 0.0389 - accuracy: 0.9677\nEpoch 397/500\n93/93 [==============================] - 0s 1ms/step - loss: 0.0399 - accuracy: 0.9570\nEpoch 398/500\n93/93 [==============================] - 0s 751us/step - loss: 0.0324 - accuracy: 0.9785\nEpoch 399/500\n93/93 [==============================] - 0s 1ms/step - loss: 0.0325 - accuracy: 0.9892\nEpoch 400/500\n93/93 [==============================] - 0s 450us/step - loss: 0.0331 - accuracy: 0.9785\nEpoch 401/500\n93/93 [==============================] - 0s 922us/step - loss: 0.0271 - accuracy: 1.0000\nEpoch 402/500\n93/93 [==============================] - 0s 654us/step - loss: 0.0348 - accuracy: 0.9892\nEpoch 403/500\n93/93 [==============================] - 0s 493us/step - loss: 0.0311 - accuracy: 0.9892\nEpoch 404/500\n93/93 [==============================] - 0s 418us/step - loss: 0.0335 - accuracy: 0.9785\nEpoch 405/500\n93/93 [==============================] - 0s 418us/step - loss: 0.0346 - accuracy: 0.9677\nEpoch 406/500\n93/93 [==============================] - 0s 869us/step - loss: 0.0338 - accuracy: 0.9677\nEpoch 407/500\n93/93 [==============================] - 0s 408us/step - loss: 0.0372 - accuracy: 0.9677\nEpoch 408/500\n93/93 [==============================] - 0s 504us/step - loss: 0.0306 - accuracy: 0.9785\nEpoch 409/500\n93/93 [==============================] - 0s 375us/step - loss: 0.0331 - accuracy: 0.9677\nEpoch 410/500\n93/93 [==============================] - 0s 590us/step - loss: 0.0335 - accuracy: 0.9785\nEpoch 411/500\n93/93 [==============================] - 0s 579us/step - loss: 0.0298 - accuracy: 0.9785\nEpoch 412/500\n93/93 [==============================] - 0s 547us/step - loss: 0.0353 - accuracy: 0.9785\nEpoch 413/500\n93/93 [==============================] - 0s 472us/step - loss: 0.0341 - accuracy: 0.9785\nEpoch 414/500\n93/93 [==============================] - 0s 525us/step - loss: 0.0341 - accuracy: 0.9785\nEpoch 415/500\n93/93 [==============================] - 0s 515us/step - loss: 0.0348 - accuracy: 0.9677\nEpoch 416/500\n93/93 [==============================] - 0s 665us/step - loss: 0.0380 - accuracy: 0.9677\nEpoch 417/500\n93/93 [==============================] - 0s 536us/step - loss: 0.0364 - accuracy: 0.9785\nEpoch 418/500\n93/93 [==============================] - 0s 654us/step - loss: 0.0336 - accuracy: 0.9677\nEpoch 419/500\n93/93 [==============================] - 0s 622us/step - loss: 0.0334 - accuracy: 0.9892\nEpoch 420/500\n93/93 [==============================] - 0s 890us/step - loss: 0.0394 - accuracy: 0.9677\nEpoch 421/500\n93/93 [==============================] - 0s 2ms/step - loss: 0.0260 - accuracy: 0.9892\nEpoch 422/500\n93/93 [==============================] - 0s 622us/step - loss: 0.0376 - accuracy: 0.9677\nEpoch 423/500\n93/93 [==============================] - 0s 1ms/step - loss: 0.0342 - accuracy: 0.9677\nEpoch 424/500\n93/93 [==============================] - 0s 579us/step - loss: 0.0309 - accuracy: 0.9892\nEpoch 425/500\n93/93 [==============================] - 0s 429us/step - loss: 0.0323 - accuracy: 0.9892\nEpoch 426/500\n93/93 [==============================] - 0s 708us/step - loss: 0.0385 - accuracy: 0.9570\nEpoch 427/500\n93/93 [==============================] - 0s 408us/step - loss: 0.0319 - accuracy: 0.9785\nEpoch 428/500\n93/93 [==============================] - 0s 536us/step - loss: 0.0311 - accuracy: 0.9892\nEpoch 429/500\n93/93 [==============================] - 0s 440us/step - loss: 0.0369 - accuracy: 0.9677\nEpoch 430/500\n93/93 [==============================] - 0s 493us/step - loss: 0.0382 - accuracy: 0.9570\nEpoch 431/500\n93/93 [==============================] - 0s 397us/step - loss: 0.0372 - accuracy: 0.9785\nEpoch 432/500\n93/93 [==============================] - 0s 429us/step - loss: 0.0363 - accuracy: 0.9785\nEpoch 433/500\n93/93 [==============================] - 0s 418us/step - loss: 0.0314 - accuracy: 0.9892\nEpoch 434/500\n93/93 [==============================] - 0s 493us/step - loss: 0.0336 - accuracy: 0.9892\nEpoch 435/500\n93/93 [==============================] - 0s 504us/step - loss: 0.0391 - accuracy: 0.9570\nEpoch 436/500\n93/93 [==============================] - 0s 686us/step - loss: 0.0300 - accuracy: 0.9892\nEpoch 437/500\n93/93 [==============================] - 0s 408us/step - loss: 0.0242 - accuracy: 1.0000\nEpoch 438/500\n93/93 [==============================] - 0s 633us/step - loss: 0.0284 - accuracy: 0.9892\nEpoch 439/500\n93/93 [==============================] - 0s 622us/step - loss: 0.0330 - accuracy: 0.9785\nEpoch 440/500\n93/93 [==============================] - 0s 815us/step - loss: 0.0399 - accuracy: 0.9677\nEpoch 441/500\n93/93 [==============================] - 0s 461us/step - loss: 0.0353 - accuracy: 0.9785\nEpoch 442/500\n93/93 [==============================] - 0s 1ms/step - loss: 0.0292 - accuracy: 1.0000\nEpoch 443/500\n93/93 [==============================] - 0s 472us/step - loss: 0.0410 - accuracy: 0.9677\nEpoch 444/500\n93/93 [==============================] - 0s 1ms/step - loss: 0.0310 - accuracy: 0.9892\nEpoch 445/500\n93/93 [==============================] - 0s 450us/step - loss: 0.0319 - accuracy: 0.9892\nEpoch 446/500\n93/93 [==============================] - 0s 1ms/step - loss: 0.0346 - accuracy: 0.9785\nEpoch 447/500\n93/93 [==============================] - 0s 740us/step - loss: 0.0382 - accuracy: 0.9677\nEpoch 448/500\n93/93 [==============================] - 0s 2ms/step - loss: 0.0340 - accuracy: 0.9785\nEpoch 449/500\n93/93 [==============================] - 0s 1ms/step - loss: 0.0376 - accuracy: 0.9677\nEpoch 450/500\n93/93 [==============================] - 0s 365us/step - loss: 0.0326 - accuracy: 0.9785\nEpoch 451/500\n93/93 [==============================] - 0s 826us/step - loss: 0.0410 - accuracy: 0.9570\nEpoch 452/500\n93/93 [==============================] - 0s 440us/step - loss: 0.0300 - accuracy: 0.9785\nEpoch 453/500\n93/93 [==============================] - 0s 686us/step - loss: 0.0326 - accuracy: 0.9785\nEpoch 454/500\n93/93 [==============================] - 0s 375us/step - loss: 0.0295 - accuracy: 0.9892\nEpoch 455/500\n93/93 [==============================] - 0s 633us/step - loss: 0.0339 - accuracy: 0.9677\nEpoch 456/500\n93/93 [==============================] - 0s 440us/step - loss: 0.0299 - accuracy: 0.9892\nEpoch 457/500\n93/93 [==============================] - 0s 611us/step - loss: 0.0263 - accuracy: 0.9892\nEpoch 458/500\n93/93 [==============================] - 0s 944us/step - loss: 0.0326 - accuracy: 0.9892\nEpoch 459/500\n93/93 [==============================] - 0s 440us/step - loss: 0.0349 - accuracy: 0.9677\nEpoch 460/500\n93/93 [==============================] - 0s 622us/step - loss: 0.0348 - accuracy: 0.9892\nEpoch 461/500\n93/93 [==============================] - 0s 1ms/step - loss: 0.0327 - accuracy: 0.9785\nEpoch 462/500\n93/93 [==============================] - 0s 772us/step - loss: 0.0350 - accuracy: 0.9677\nEpoch 463/500\n93/93 [==============================] - 0s 504us/step - loss: 0.0288 - accuracy: 0.9785\nEpoch 464/500\n93/93 [==============================] - 0s 697us/step - loss: 0.0407 - accuracy: 0.9570\nEpoch 465/500\n93/93 [==============================] - 0s 568us/step - loss: 0.0320 - accuracy: 0.9892\nEpoch 466/500\n93/93 [==============================] - 0s 794us/step - loss: 0.0321 - accuracy: 0.9785\nEpoch 467/500\n93/93 [==============================] - 0s 633us/step - loss: 0.0371 - accuracy: 0.9677\nEpoch 468/500\n93/93 [==============================] - 0s 1ms/step - loss: 0.0362 - accuracy: 0.9785\nEpoch 469/500\n93/93 [==============================] - 0s 4ms/step - loss: 0.0407 - accuracy: 0.9677\nEpoch 470/500\n93/93 [==============================] - 0s 515us/step - loss: 0.0310 - accuracy: 0.9892\nEpoch 471/500\n93/93 [==============================] - 0s 1ms/step - loss: 0.0331 - accuracy: 0.9785\nEpoch 472/500\n93/93 [==============================] - 0s 483us/step - loss: 0.0284 - accuracy: 0.9892\nEpoch 473/500\n93/93 [==============================] - 0s 815us/step - loss: 0.0368 - accuracy: 0.9677\nEpoch 474/500\n93/93 [==============================] - 0s 354us/step - loss: 0.0328 - accuracy: 0.9785\nEpoch 475/500\n93/93 [==============================] - 0s 708us/step - loss: 0.0341 - accuracy: 0.9785\nEpoch 476/500\n93/93 [==============================] - 0s 375us/step - loss: 0.0315 - accuracy: 0.9785\nEpoch 477/500\n93/93 [==============================] - 0s 676us/step - loss: 0.0361 - accuracy: 0.9677\nEpoch 478/500\n93/93 [==============================] - 0s 472us/step - loss: 0.0313 - accuracy: 0.9892\nEpoch 479/500\n93/93 [==============================] - 0s 1ms/step - loss: 0.0334 - accuracy: 0.9785\nEpoch 480/500\n93/93 [==============================] - 0s 375us/step - loss: 0.0374 - accuracy: 0.9570\nEpoch 481/500\n93/93 [==============================] - 0s 633us/step - loss: 0.0300 - accuracy: 0.9785\nEpoch 482/500\n93/93 [==============================] - 0s 386us/step - loss: 0.0375 - accuracy: 0.9677\nEpoch 483/500\n93/93 [==============================] - 0s 890us/step - loss: 0.0359 - accuracy: 0.9677\nEpoch 484/500\n93/93 [==============================] - 0s 386us/step - loss: 0.0295 - accuracy: 0.9785\nEpoch 485/500\n93/93 [==============================] - 0s 729us/step - loss: 0.0308 - accuracy: 0.9677\nEpoch 486/500\n93/93 [==============================] - 0s 429us/step - loss: 0.0341 - accuracy: 0.9785\nEpoch 487/500\n93/93 [==============================] - 0s 472us/step - loss: 0.0304 - accuracy: 0.9785\nEpoch 488/500\n93/93 [==============================] - 0s 504us/step - loss: 0.0347 - accuracy: 0.9785\nEpoch 489/500\n93/93 [==============================] - 0s 729us/step - loss: 0.0319 - accuracy: 0.9892\nEpoch 490/500\n93/93 [==============================] - 0s 901us/step - loss: 0.0264 - accuracy: 1.0000\nEpoch 491/500\n93/93 [==============================] - 0s 2ms/step - loss: 0.0356 - accuracy: 0.9677\nEpoch 492/500\n93/93 [==============================] - 0s 751us/step - loss: 0.0304 - accuracy: 0.9892\nEpoch 493/500\n93/93 [==============================] - 0s 772us/step - loss: 0.0320 - accuracy: 0.9892\nEpoch 494/500\n93/93 [==============================] - 0s 397us/step - loss: 0.0349 - accuracy: 0.9677\nEpoch 495/500\n93/93 [==============================] - 0s 858us/step - loss: 0.0341 - accuracy: 0.9677\nEpoch 496/500\n93/93 [==============================] - 0s 440us/step - loss: 0.0383 - accuracy: 0.9677\nEpoch 497/500\n93/93 [==============================] - 0s 601us/step - loss: 0.0297 - accuracy: 0.9892\nEpoch 498/500\n93/93 [==============================] - 0s 397us/step - loss: 0.0348 - accuracy: 0.9677\nEpoch 499/500\n93/93 [==============================] - 0s 504us/step - loss: 0.0387 - accuracy: 0.9570\nEpoch 500/500\n93/93 [==============================] - 0s 515us/step - loss: 0.0331 - accuracy: 0.9892\n"
    },
    {
     "output_type": "execute_result",
     "data": {
      "text/plain": "<keras.callbacks.callbacks.History at 0x22ee2f7f248>"
     },
     "metadata": {},
     "execution_count": 18
    }
   ],
   "source": [
    "model.compile(optimizer='adam', loss='categorical_crossentropy', metrics=['accuracy'])\n",
    "\t\n",
    "model.fit(x, y, epochs=500)"
   ]
  },
  {
   "cell_type": "code",
   "execution_count": null,
   "metadata": {},
   "outputs": [],
   "source": []
  }
 ]
}